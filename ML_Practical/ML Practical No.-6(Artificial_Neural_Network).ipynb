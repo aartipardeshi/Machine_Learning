{
 "cells": [
  {
   "cell_type": "code",
   "execution_count": 100,
   "id": "99314204",
   "metadata": {},
   "outputs": [],
   "source": [
    "import pandas as pd\n",
    "import numpy as np\n",
    "import matplotlib.pyplot as plt\n",
    "import seaborn as sns"
   ]
  },
  {
   "cell_type": "code",
   "execution_count": 101,
   "id": "58135441",
   "metadata": {},
   "outputs": [],
   "source": [
    "data = pd.read_csv('diabetics.csv')"
   ]
  },
  {
   "cell_type": "code",
   "execution_count": 102,
   "id": "c9c62b07",
   "metadata": {},
   "outputs": [
    {
     "data": {
      "text/html": [
       "<div>\n",
       "<style scoped>\n",
       "    .dataframe tbody tr th:only-of-type {\n",
       "        vertical-align: middle;\n",
       "    }\n",
       "\n",
       "    .dataframe tbody tr th {\n",
       "        vertical-align: top;\n",
       "    }\n",
       "\n",
       "    .dataframe thead th {\n",
       "        text-align: right;\n",
       "    }\n",
       "</style>\n",
       "<table border=\"1\" class=\"dataframe\">\n",
       "  <thead>\n",
       "    <tr style=\"text-align: right;\">\n",
       "      <th></th>\n",
       "      <th>Pregnancies</th>\n",
       "      <th>Glucose</th>\n",
       "      <th>BloodPressure</th>\n",
       "      <th>SkinThickness</th>\n",
       "      <th>Insulin</th>\n",
       "      <th>BMI</th>\n",
       "      <th>DiabetesPedigreeFunction</th>\n",
       "      <th>Age</th>\n",
       "      <th>Outcome</th>\n",
       "    </tr>\n",
       "  </thead>\n",
       "  <tbody>\n",
       "    <tr>\n",
       "      <th>0</th>\n",
       "      <td>6</td>\n",
       "      <td>148</td>\n",
       "      <td>72</td>\n",
       "      <td>35</td>\n",
       "      <td>0</td>\n",
       "      <td>33.6</td>\n",
       "      <td>0.627</td>\n",
       "      <td>50</td>\n",
       "      <td>1</td>\n",
       "    </tr>\n",
       "    <tr>\n",
       "      <th>1</th>\n",
       "      <td>1</td>\n",
       "      <td>85</td>\n",
       "      <td>66</td>\n",
       "      <td>29</td>\n",
       "      <td>0</td>\n",
       "      <td>26.6</td>\n",
       "      <td>0.351</td>\n",
       "      <td>31</td>\n",
       "      <td>0</td>\n",
       "    </tr>\n",
       "    <tr>\n",
       "      <th>2</th>\n",
       "      <td>8</td>\n",
       "      <td>183</td>\n",
       "      <td>64</td>\n",
       "      <td>0</td>\n",
       "      <td>0</td>\n",
       "      <td>23.3</td>\n",
       "      <td>0.672</td>\n",
       "      <td>32</td>\n",
       "      <td>1</td>\n",
       "    </tr>\n",
       "    <tr>\n",
       "      <th>3</th>\n",
       "      <td>1</td>\n",
       "      <td>89</td>\n",
       "      <td>66</td>\n",
       "      <td>23</td>\n",
       "      <td>94</td>\n",
       "      <td>28.1</td>\n",
       "      <td>0.167</td>\n",
       "      <td>21</td>\n",
       "      <td>0</td>\n",
       "    </tr>\n",
       "    <tr>\n",
       "      <th>4</th>\n",
       "      <td>0</td>\n",
       "      <td>137</td>\n",
       "      <td>40</td>\n",
       "      <td>35</td>\n",
       "      <td>168</td>\n",
       "      <td>43.1</td>\n",
       "      <td>2.288</td>\n",
       "      <td>33</td>\n",
       "      <td>1</td>\n",
       "    </tr>\n",
       "    <tr>\n",
       "      <th>...</th>\n",
       "      <td>...</td>\n",
       "      <td>...</td>\n",
       "      <td>...</td>\n",
       "      <td>...</td>\n",
       "      <td>...</td>\n",
       "      <td>...</td>\n",
       "      <td>...</td>\n",
       "      <td>...</td>\n",
       "      <td>...</td>\n",
       "    </tr>\n",
       "    <tr>\n",
       "      <th>763</th>\n",
       "      <td>10</td>\n",
       "      <td>101</td>\n",
       "      <td>76</td>\n",
       "      <td>48</td>\n",
       "      <td>180</td>\n",
       "      <td>32.9</td>\n",
       "      <td>0.171</td>\n",
       "      <td>63</td>\n",
       "      <td>0</td>\n",
       "    </tr>\n",
       "    <tr>\n",
       "      <th>764</th>\n",
       "      <td>2</td>\n",
       "      <td>122</td>\n",
       "      <td>70</td>\n",
       "      <td>27</td>\n",
       "      <td>0</td>\n",
       "      <td>36.8</td>\n",
       "      <td>0.340</td>\n",
       "      <td>27</td>\n",
       "      <td>0</td>\n",
       "    </tr>\n",
       "    <tr>\n",
       "      <th>765</th>\n",
       "      <td>5</td>\n",
       "      <td>121</td>\n",
       "      <td>72</td>\n",
       "      <td>23</td>\n",
       "      <td>112</td>\n",
       "      <td>26.2</td>\n",
       "      <td>0.245</td>\n",
       "      <td>30</td>\n",
       "      <td>0</td>\n",
       "    </tr>\n",
       "    <tr>\n",
       "      <th>766</th>\n",
       "      <td>1</td>\n",
       "      <td>126</td>\n",
       "      <td>60</td>\n",
       "      <td>0</td>\n",
       "      <td>0</td>\n",
       "      <td>30.1</td>\n",
       "      <td>0.349</td>\n",
       "      <td>47</td>\n",
       "      <td>1</td>\n",
       "    </tr>\n",
       "    <tr>\n",
       "      <th>767</th>\n",
       "      <td>1</td>\n",
       "      <td>93</td>\n",
       "      <td>70</td>\n",
       "      <td>31</td>\n",
       "      <td>0</td>\n",
       "      <td>30.4</td>\n",
       "      <td>0.315</td>\n",
       "      <td>23</td>\n",
       "      <td>0</td>\n",
       "    </tr>\n",
       "  </tbody>\n",
       "</table>\n",
       "<p>768 rows × 9 columns</p>\n",
       "</div>"
      ],
      "text/plain": [
       "     Pregnancies  Glucose  BloodPressure  SkinThickness  Insulin   BMI  \\\n",
       "0              6      148             72             35        0  33.6   \n",
       "1              1       85             66             29        0  26.6   \n",
       "2              8      183             64              0        0  23.3   \n",
       "3              1       89             66             23       94  28.1   \n",
       "4              0      137             40             35      168  43.1   \n",
       "..           ...      ...            ...            ...      ...   ...   \n",
       "763           10      101             76             48      180  32.9   \n",
       "764            2      122             70             27        0  36.8   \n",
       "765            5      121             72             23      112  26.2   \n",
       "766            1      126             60              0        0  30.1   \n",
       "767            1       93             70             31        0  30.4   \n",
       "\n",
       "     DiabetesPedigreeFunction  Age  Outcome  \n",
       "0                       0.627   50        1  \n",
       "1                       0.351   31        0  \n",
       "2                       0.672   32        1  \n",
       "3                       0.167   21        0  \n",
       "4                       2.288   33        1  \n",
       "..                        ...  ...      ...  \n",
       "763                     0.171   63        0  \n",
       "764                     0.340   27        0  \n",
       "765                     0.245   30        0  \n",
       "766                     0.349   47        1  \n",
       "767                     0.315   23        0  \n",
       "\n",
       "[768 rows x 9 columns]"
      ]
     },
     "execution_count": 102,
     "metadata": {},
     "output_type": "execute_result"
    }
   ],
   "source": [
    "data"
   ]
  },
  {
   "cell_type": "code",
   "execution_count": 103,
   "id": "f2c8e662",
   "metadata": {},
   "outputs": [
    {
     "data": {
      "text/html": [
       "<div>\n",
       "<style scoped>\n",
       "    .dataframe tbody tr th:only-of-type {\n",
       "        vertical-align: middle;\n",
       "    }\n",
       "\n",
       "    .dataframe tbody tr th {\n",
       "        vertical-align: top;\n",
       "    }\n",
       "\n",
       "    .dataframe thead th {\n",
       "        text-align: right;\n",
       "    }\n",
       "</style>\n",
       "<table border=\"1\" class=\"dataframe\">\n",
       "  <thead>\n",
       "    <tr style=\"text-align: right;\">\n",
       "      <th></th>\n",
       "      <th>Pregnancies</th>\n",
       "      <th>Glucose</th>\n",
       "      <th>BloodPressure</th>\n",
       "      <th>SkinThickness</th>\n",
       "      <th>Insulin</th>\n",
       "      <th>BMI</th>\n",
       "      <th>DiabetesPedigreeFunction</th>\n",
       "      <th>Age</th>\n",
       "      <th>Outcome</th>\n",
       "    </tr>\n",
       "  </thead>\n",
       "  <tbody>\n",
       "    <tr>\n",
       "      <th>0</th>\n",
       "      <td>6</td>\n",
       "      <td>148</td>\n",
       "      <td>72</td>\n",
       "      <td>35</td>\n",
       "      <td>0</td>\n",
       "      <td>33.6</td>\n",
       "      <td>0.627</td>\n",
       "      <td>50</td>\n",
       "      <td>1</td>\n",
       "    </tr>\n",
       "    <tr>\n",
       "      <th>1</th>\n",
       "      <td>1</td>\n",
       "      <td>85</td>\n",
       "      <td>66</td>\n",
       "      <td>29</td>\n",
       "      <td>0</td>\n",
       "      <td>26.6</td>\n",
       "      <td>0.351</td>\n",
       "      <td>31</td>\n",
       "      <td>0</td>\n",
       "    </tr>\n",
       "    <tr>\n",
       "      <th>2</th>\n",
       "      <td>8</td>\n",
       "      <td>183</td>\n",
       "      <td>64</td>\n",
       "      <td>0</td>\n",
       "      <td>0</td>\n",
       "      <td>23.3</td>\n",
       "      <td>0.672</td>\n",
       "      <td>32</td>\n",
       "      <td>1</td>\n",
       "    </tr>\n",
       "    <tr>\n",
       "      <th>3</th>\n",
       "      <td>1</td>\n",
       "      <td>89</td>\n",
       "      <td>66</td>\n",
       "      <td>23</td>\n",
       "      <td>94</td>\n",
       "      <td>28.1</td>\n",
       "      <td>0.167</td>\n",
       "      <td>21</td>\n",
       "      <td>0</td>\n",
       "    </tr>\n",
       "    <tr>\n",
       "      <th>4</th>\n",
       "      <td>0</td>\n",
       "      <td>137</td>\n",
       "      <td>40</td>\n",
       "      <td>35</td>\n",
       "      <td>168</td>\n",
       "      <td>43.1</td>\n",
       "      <td>2.288</td>\n",
       "      <td>33</td>\n",
       "      <td>1</td>\n",
       "    </tr>\n",
       "  </tbody>\n",
       "</table>\n",
       "</div>"
      ],
      "text/plain": [
       "   Pregnancies  Glucose  BloodPressure  SkinThickness  Insulin   BMI  \\\n",
       "0            6      148             72             35        0  33.6   \n",
       "1            1       85             66             29        0  26.6   \n",
       "2            8      183             64              0        0  23.3   \n",
       "3            1       89             66             23       94  28.1   \n",
       "4            0      137             40             35      168  43.1   \n",
       "\n",
       "   DiabetesPedigreeFunction  Age  Outcome  \n",
       "0                     0.627   50        1  \n",
       "1                     0.351   31        0  \n",
       "2                     0.672   32        1  \n",
       "3                     0.167   21        0  \n",
       "4                     2.288   33        1  "
      ]
     },
     "execution_count": 103,
     "metadata": {},
     "output_type": "execute_result"
    }
   ],
   "source": [
    "data.head()"
   ]
  },
  {
   "cell_type": "code",
   "execution_count": 104,
   "id": "41b9e9b2",
   "metadata": {},
   "outputs": [
    {
     "data": {
      "text/plain": [
       "(768, 9)"
      ]
     },
     "execution_count": 104,
     "metadata": {},
     "output_type": "execute_result"
    }
   ],
   "source": [
    "data.shape"
   ]
  },
  {
   "cell_type": "code",
   "execution_count": 105,
   "id": "7d6cbc06",
   "metadata": {},
   "outputs": [
    {
     "data": {
      "text/plain": [
       "Index(['Pregnancies', 'Glucose', 'BloodPressure', 'SkinThickness', 'Insulin',\n",
       "       'BMI', 'DiabetesPedigreeFunction', 'Age', 'Outcome'],\n",
       "      dtype='object')"
      ]
     },
     "execution_count": 105,
     "metadata": {},
     "output_type": "execute_result"
    }
   ],
   "source": [
    "data.columns"
   ]
  },
  {
   "cell_type": "code",
   "execution_count": 106,
   "id": "0edf348a",
   "metadata": {},
   "outputs": [],
   "source": [
    "x = data.iloc[:,:-1].values"
   ]
  },
  {
   "cell_type": "code",
   "execution_count": 107,
   "id": "9ae8e66f",
   "metadata": {},
   "outputs": [
    {
     "data": {
      "text/plain": [
       "array([[  6.   , 148.   ,  72.   , ...,  33.6  ,   0.627,  50.   ],\n",
       "       [  1.   ,  85.   ,  66.   , ...,  26.6  ,   0.351,  31.   ],\n",
       "       [  8.   , 183.   ,  64.   , ...,  23.3  ,   0.672,  32.   ],\n",
       "       ...,\n",
       "       [  5.   , 121.   ,  72.   , ...,  26.2  ,   0.245,  30.   ],\n",
       "       [  1.   , 126.   ,  60.   , ...,  30.1  ,   0.349,  47.   ],\n",
       "       [  1.   ,  93.   ,  70.   , ...,  30.4  ,   0.315,  23.   ]])"
      ]
     },
     "execution_count": 107,
     "metadata": {},
     "output_type": "execute_result"
    }
   ],
   "source": [
    "x"
   ]
  },
  {
   "cell_type": "code",
   "execution_count": 108,
   "id": "586ed0d3",
   "metadata": {},
   "outputs": [],
   "source": [
    "y = data.Outcome"
   ]
  },
  {
   "cell_type": "code",
   "execution_count": 109,
   "id": "01a0c68c",
   "metadata": {},
   "outputs": [
    {
     "data": {
      "text/plain": [
       "0      1\n",
       "1      0\n",
       "2      1\n",
       "3      0\n",
       "4      1\n",
       "      ..\n",
       "763    0\n",
       "764    0\n",
       "765    0\n",
       "766    1\n",
       "767    0\n",
       "Name: Outcome, Length: 768, dtype: int64"
      ]
     },
     "execution_count": 109,
     "metadata": {},
     "output_type": "execute_result"
    }
   ],
   "source": [
    "y"
   ]
  },
  {
   "cell_type": "code",
   "execution_count": 110,
   "id": "be5c7ea2",
   "metadata": {},
   "outputs": [
    {
     "data": {
      "image/png": "[encoded data removed]",
      "text/plain": [
       "<Figure size 640x480 with 1 Axes>"
      ]
     },
     "metadata": {},
     "output_type": "display_data"
    }
   ],
   "source": [
    "plt.plot(x,y)\n",
    "plt.xlabel(\"Pregnancies, Glucose, BloodPressure, SkinThickness, Insulin,BMI, DiabetesPedigreeFunction, Age\")\n",
    "plt.ylabel(\"Outcome\")\n",
    "plt.title(\"Diabetics\")\n",
    "plt.show()"
   ]
  },
  {
   "cell_type": "code",
   "execution_count": 111,
   "id": "3da8dd78",
   "metadata": {},
   "outputs": [],
   "source": [
    "import sklearn"
   ]
  },
  {
   "cell_type": "code",
   "execution_count": 112,
   "id": "e53a6e24",
   "metadata": {},
   "outputs": [],
   "source": [
    "from sklearn.model_selection import train_test_split"
   ]
  },
  {
   "cell_type": "code",
   "execution_count": 113,
   "id": "ab16d18d",
   "metadata": {},
   "outputs": [],
   "source": [
    "x_train,x_test,y_train,y_test=train_test_split(x,y, random_state=0, train_size=0.70)"
   ]
  },
  {
   "cell_type": "code",
   "execution_count": 114,
   "id": "74976706",
   "metadata": {},
   "outputs": [
    {
     "data": {
      "text/plain": [
       "array([[0.00e+00, 1.51e+02, 9.00e+01, ..., 4.21e+01, 3.71e-01, 2.10e+01],\n",
       "       [1.00e+00, 8.30e+01, 6.80e+01, ..., 1.82e+01, 6.24e-01, 2.70e+01],\n",
       "       [2.00e+00, 1.22e+02, 7.00e+01, ..., 3.68e+01, 3.40e-01, 2.70e+01],\n",
       "       ...,\n",
       "       [4.00e+00, 9.40e+01, 6.50e+01, ..., 2.47e+01, 1.48e-01, 2.10e+01],\n",
       "       [1.10e+01, 8.50e+01, 7.40e+01, ..., 3.01e+01, 3.00e-01, 3.50e+01],\n",
       "       [5.00e+00, 1.36e+02, 8.20e+01, ..., 0.00e+00, 6.40e-01, 6.90e+01]])"
      ]
     },
     "execution_count": 114,
     "metadata": {},
     "output_type": "execute_result"
    }
   ],
   "source": [
    "x_train"
   ]
  },
  {
   "cell_type": "code",
   "execution_count": 115,
   "id": "ea04638c",
   "metadata": {},
   "outputs": [],
   "source": [
    "import tensorflow as tf"
   ]
  },
  {
   "cell_type": "code",
   "execution_count": 116,
   "id": "899b4820",
   "metadata": {},
   "outputs": [],
   "source": [
    "import keras"
   ]
  },
  {
   "cell_type": "code",
   "execution_count": 117,
   "id": "95bb78ad",
   "metadata": {},
   "outputs": [],
   "source": [
    "from keras.models import Sequential"
   ]
  },
  {
   "cell_type": "code",
   "execution_count": 118,
   "id": "53acd098",
   "metadata": {},
   "outputs": [],
   "source": [
    "model = Sequential()"
   ]
  },
  {
   "cell_type": "code",
   "execution_count": 119,
   "id": "2565bf8a",
   "metadata": {},
   "outputs": [],
   "source": [
    "from keras.layers import Dense"
   ]
  },
  {
   "cell_type": "code",
   "execution_count": 120,
   "id": "6cd0a331",
   "metadata": {},
   "outputs": [],
   "source": [
    "#add first hidden layer\n",
    "model.add(Dense(32,activation='relu',input_dim=8))"
   ]
  },
  {
   "cell_type": "code",
   "execution_count": 121,
   "id": "45af194f",
   "metadata": {},
   "outputs": [],
   "source": [
    "#second hidden layer\n",
    "model.add(Dense(16,activation='relu'))"
   ]
  },
  {
   "cell_type": "code",
   "execution_count": 122,
   "id": "c327ecf8",
   "metadata": {},
   "outputs": [],
   "source": [
    "# Output layer\n",
    "model.add(Dense(1,activation='sigmoid'))"
   ]
  },
  {
   "cell_type": "code",
   "execution_count": 123,
   "id": "60b8ef6e",
   "metadata": {},
   "outputs": [],
   "source": [
    "# Compile the model\n",
    "model.compile(optimizer='adam', loss='binary_crossentropy',metrics=['accuracy'])"
   ]
  },
  {
   "cell_type": "code",
   "execution_count": 124,
   "id": "07e4b6a7",
   "metadata": {},
   "outputs": [
    {
     "name": "stdout",
     "output_type": "stream",
     "text": [
      "Epoch 1/20\n",
      "17/17 [==============================] - 0s 2ms/step - loss: 10.6661 - accuracy: 0.6313\n",
      "Epoch 2/20\n",
      "17/17 [==============================] - 0s 1ms/step - loss: 3.2481 - accuracy: 0.3929\n",
      "Epoch 3/20\n",
      "17/17 [==============================] - 0s 1ms/step - loss: 1.9908 - accuracy: 0.4860\n",
      "Epoch 4/20\n",
      "17/17 [==============================] - 0s 1ms/step - loss: 1.5940 - accuracy: 0.4935\n",
      "Epoch 5/20\n",
      "17/17 [==============================] - 0s 1ms/step - loss: 1.3491 - accuracy: 0.5121\n",
      "Epoch 6/20\n",
      "17/17 [==============================] - 0s 1ms/step - loss: 1.2353 - accuracy: 0.5270\n",
      "Epoch 7/20\n",
      "17/17 [==============================] - 0s 2ms/step - loss: 1.0929 - accuracy: 0.5717\n",
      "Epoch 8/20\n",
      "17/17 [==============================] - 0s 1ms/step - loss: 0.9881 - accuracy: 0.5829\n",
      "Epoch 9/20\n",
      "17/17 [==============================] - 0s 1ms/step - loss: 0.9456 - accuracy: 0.5680\n",
      "Epoch 10/20\n",
      "17/17 [==============================] - 0s 2ms/step - loss: 0.8999 - accuracy: 0.6052\n",
      "Epoch 11/20\n",
      "17/17 [==============================] - 0s 2ms/step - loss: 0.8550 - accuracy: 0.6052\n",
      "Epoch 12/20\n",
      "17/17 [==============================] - 0s 1ms/step - loss: 0.8521 - accuracy: 0.6127\n",
      "Epoch 13/20\n",
      "17/17 [==============================] - 0s 2ms/step - loss: 0.8127 - accuracy: 0.6294\n",
      "Epoch 14/20\n",
      "17/17 [==============================] - 0s 2ms/step - loss: 0.8082 - accuracy: 0.6034\n",
      "Epoch 15/20\n",
      "17/17 [==============================] - 0s 1ms/step - loss: 0.7444 - accuracy: 0.6406\n",
      "Epoch 16/20\n",
      "17/17 [==============================] - 0s 2ms/step - loss: 0.7287 - accuracy: 0.6499\n",
      "Epoch 17/20\n",
      "17/17 [==============================] - 0s 1ms/step - loss: 0.7107 - accuracy: 0.6220\n",
      "Epoch 18/20\n",
      "17/17 [==============================] - 0s 1ms/step - loss: 0.6893 - accuracy: 0.6797\n",
      "Epoch 19/20\n",
      "17/17 [==============================] - 0s 2ms/step - loss: 0.6897 - accuracy: 0.6778\n",
      "Epoch 20/20\n",
      "17/17 [==============================] - 0s 1ms/step - loss: 0.6800 - accuracy: 0.6611\n"
     ]
    },
    {
     "data": {
      "text/plain": [
       "<keras.callbacks.History at 0x1f4fae7aa50>"
      ]
     },
     "execution_count": 124,
     "metadata": {},
     "output_type": "execute_result"
    }
   ],
   "source": [
    "# Training for 20 epochs\n",
    "model.fit(x_train,y_train,epochs=20)"
   ]
  },
  {
   "cell_type": "code",
   "execution_count": 125,
   "id": "510137ce",
   "metadata": {},
   "outputs": [
    {
     "name": "stdout",
     "output_type": "stream",
     "text": [
      "17/17 [==============================] - 0s 1ms/step - loss: 0.6568 - accuracy: 0.6629\n"
     ]
    }
   ],
   "source": [
    "# Train and Test Accuracy\n",
    "scores = model.evaluate(x_train,y_train)"
   ]
  },
  {
   "cell_type": "code",
   "execution_count": 126,
   "id": "bfcb3ffb",
   "metadata": {},
   "outputs": [
    {
     "name": "stdout",
     "output_type": "stream",
     "text": [
      "Training Accuracy:  66.29%\n",
      "\n"
     ]
    }
   ],
   "source": [
    "print(\"Training Accuracy: % .2f%%\\n\" % (scores[1]*100))"
   ]
  },
  {
   "cell_type": "code",
   "execution_count": 127,
   "id": "31d18f95",
   "metadata": {},
   "outputs": [
    {
     "name": "stdout",
     "output_type": "stream",
     "text": [
      "8/8 [==============================] - 0s 1ms/step - loss: 0.8113 - accuracy: 0.5931\n"
     ]
    }
   ],
   "source": [
    "scores = model.evaluate(x_test,y_test)"
   ]
  },
  {
   "cell_type": "code",
   "execution_count": 128,
   "id": "c06d6f77",
   "metadata": {},
   "outputs": [
    {
     "name": "stdout",
     "output_type": "stream",
     "text": [
      "Testing Accuracy:  59.31%\n",
      "\n"
     ]
    }
   ],
   "source": [
    "print(\"Testing Accuracy: % .2f%%\\n\" % (scores[1]*100))"
   ]
  },
  {
   "cell_type": "code",
   "execution_count": 129,
   "id": "9d32b51a",
   "metadata": {},
   "outputs": [],
   "source": [
    "from sklearn.metrics import confusion_matrix"
   ]
  },
  {
   "cell_type": "code",
   "execution_count": 130,
   "id": "9dc0bb80",
   "metadata": {},
   "outputs": [
    {
     "name": "stdout",
     "output_type": "stream",
     "text": [
      "8/8 [==============================] - 0s 1ms/step\n"
     ]
    }
   ],
   "source": [
    "y_test_pred = (model.predict(x_test)>0.5).astype(\"int32\")"
   ]
  },
  {
   "cell_type": "code",
   "execution_count": 131,
   "id": "700c9d68",
   "metadata": {},
   "outputs": [
    {
     "name": "stdout",
     "output_type": "stream",
     "text": [
      "[[107  50]\n",
      " [ 44  30]]\n"
     ]
    }
   ],
   "source": [
    "cm = confusion_matrix(y_test,y_test_pred)\n",
    "print(cm)"
   ]
  },
  {
   "cell_type": "code",
   "execution_count": 132,
   "id": "a66f9bfb",
   "metadata": {},
   "outputs": [
    {
     "data": {
      "image/png": "[encoded data removed]",
      "text/plain": [
       "<Figure size 640x480 with 1 Axes>"
      ]
     },
     "metadata": {},
     "output_type": "display_data"
    }
   ],
   "source": [
    "ax = sns.heatmap(cm, annot=True, xticklabels=[\"No Diabetics\",\"Diabetics\"], yticklabels=[\"No Diabetics\",\"Diabetics\"],\n",
    "                cbar=False,cmap='Blues')\n",
    "ax.set_xlabel('Prediction')\n",
    "ax.set_ylabel('Actual')\n",
    "plt.show()"
   ]
  },
  {
   "cell_type": "markdown",
   "id": "60adc45c",
   "metadata": {},
   "source": [
    "# Epoch Change"
   ]
  },
  {
   "cell_type": "code",
   "execution_count": 133,
   "id": "2ebb27af",
   "metadata": {},
   "outputs": [
    {
     "name": "stdout",
     "output_type": "stream",
     "text": [
      "Epoch 1/50\n",
      "17/17 [==============================] - 0s 2ms/step - loss: 0.6591 - accuracy: 0.6853\n",
      "Epoch 2/50\n",
      "17/17 [==============================] - 0s 1ms/step - loss: 0.7260 - accuracy: 0.6555\n",
      "Epoch 3/50\n",
      "17/17 [==============================] - 0s 2ms/step - loss: 0.6540 - accuracy: 0.6704\n",
      "Epoch 4/50\n",
      "17/17 [==============================] - 0s 1ms/step - loss: 0.6570 - accuracy: 0.6853\n",
      "Epoch 5/50\n",
      "17/17 [==============================] - 0s 1ms/step - loss: 0.6803 - accuracy: 0.6387\n",
      "Epoch 6/50\n",
      "17/17 [==============================] - 0s 1ms/step - loss: 0.6053 - accuracy: 0.7169\n",
      "Epoch 7/50\n",
      "17/17 [==============================] - 0s 2ms/step - loss: 0.6045 - accuracy: 0.6983\n",
      "Epoch 8/50\n",
      "17/17 [==============================] - 0s 1ms/step - loss: 0.6077 - accuracy: 0.7039\n",
      "Epoch 9/50\n",
      "17/17 [==============================] - 0s 2ms/step - loss: 0.5949 - accuracy: 0.7095\n",
      "Epoch 10/50\n",
      "17/17 [==============================] - 0s 2ms/step - loss: 0.6173 - accuracy: 0.6872\n",
      "Epoch 11/50\n",
      "17/17 [==============================] - 0s 2ms/step - loss: 0.5908 - accuracy: 0.7039\n",
      "Epoch 12/50\n",
      "17/17 [==============================] - 0s 1ms/step - loss: 0.5957 - accuracy: 0.7114\n",
      "Epoch 13/50\n",
      "17/17 [==============================] - 0s 1ms/step - loss: 0.5915 - accuracy: 0.7058\n",
      "Epoch 14/50\n",
      "17/17 [==============================] - 0s 1ms/step - loss: 0.5665 - accuracy: 0.7300\n",
      "Epoch 15/50\n",
      "17/17 [==============================] - 0s 1ms/step - loss: 0.6101 - accuracy: 0.7058\n",
      "Epoch 16/50\n",
      "17/17 [==============================] - 0s 1ms/step - loss: 0.5844 - accuracy: 0.7020\n",
      "Epoch 17/50\n",
      "17/17 [==============================] - 0s 1ms/step - loss: 0.6112 - accuracy: 0.6927\n",
      "Epoch 18/50\n",
      "17/17 [==============================] - 0s 1ms/step - loss: 0.6183 - accuracy: 0.6965\n",
      "Epoch 19/50\n",
      "17/17 [==============================] - 0s 909us/step - loss: 0.6034 - accuracy: 0.6927\n",
      "Epoch 20/50\n",
      "17/17 [==============================] - 0s 2ms/step - loss: 0.5665 - accuracy: 0.7207\n",
      "Epoch 21/50\n",
      "17/17 [==============================] - 0s 1ms/step - loss: 0.5708 - accuracy: 0.7318\n",
      "Epoch 22/50\n",
      "17/17 [==============================] - 0s 2ms/step - loss: 0.5646 - accuracy: 0.7281\n",
      "Epoch 23/50\n",
      "17/17 [==============================] - 0s 2ms/step - loss: 0.5466 - accuracy: 0.7430\n",
      "Epoch 24/50\n",
      "17/17 [==============================] - 0s 2ms/step - loss: 0.5536 - accuracy: 0.7225\n",
      "Epoch 25/50\n",
      "17/17 [==============================] - 0s 2ms/step - loss: 0.5365 - accuracy: 0.7393\n",
      "Epoch 26/50\n",
      "17/17 [==============================] - 0s 893us/step - loss: 0.5330 - accuracy: 0.7393\n",
      "Epoch 27/50\n",
      "17/17 [==============================] - 0s 1ms/step - loss: 0.5405 - accuracy: 0.7393\n",
      "Epoch 28/50\n",
      "17/17 [==============================] - 0s 1ms/step - loss: 0.5234 - accuracy: 0.7579\n",
      "Epoch 29/50\n",
      "17/17 [==============================] - 0s 1ms/step - loss: 0.5684 - accuracy: 0.7207\n",
      "Epoch 30/50\n",
      "17/17 [==============================] - 0s 1ms/step - loss: 0.5989 - accuracy: 0.6890\n",
      "Epoch 31/50\n",
      "17/17 [==============================] - 0s 1ms/step - loss: 0.6219 - accuracy: 0.7132\n",
      "Epoch 32/50\n",
      "17/17 [==============================] - 0s 1ms/step - loss: 0.5719 - accuracy: 0.7207\n",
      "Epoch 33/50\n",
      "17/17 [==============================] - 0s 2ms/step - loss: 0.5426 - accuracy: 0.7263\n",
      "Epoch 34/50\n",
      "17/17 [==============================] - 0s 1ms/step - loss: 0.5552 - accuracy: 0.7356\n",
      "Epoch 35/50\n",
      "17/17 [==============================] - 0s 1ms/step - loss: 0.5335 - accuracy: 0.7542\n",
      "Epoch 36/50\n",
      "17/17 [==============================] - 0s 1ms/step - loss: 0.5158 - accuracy: 0.7579\n",
      "Epoch 37/50\n",
      "17/17 [==============================] - 0s 2ms/step - loss: 0.5286 - accuracy: 0.7523\n",
      "Epoch 38/50\n",
      "17/17 [==============================] - 0s 1ms/step - loss: 0.5409 - accuracy: 0.7393\n",
      "Epoch 39/50\n",
      "17/17 [==============================] - 0s 1ms/step - loss: 0.5557 - accuracy: 0.7430\n",
      "Epoch 40/50\n",
      "17/17 [==============================] - 0s 2ms/step - loss: 0.5145 - accuracy: 0.7561\n",
      "Epoch 41/50\n",
      "17/17 [==============================] - 0s 2ms/step - loss: 0.5062 - accuracy: 0.7542\n",
      "Epoch 42/50\n",
      "17/17 [==============================] - 0s 1ms/step - loss: 0.5082 - accuracy: 0.7542\n",
      "Epoch 43/50\n",
      "17/17 [==============================] - 0s 1ms/step - loss: 0.5208 - accuracy: 0.7616\n",
      "Epoch 44/50\n",
      "17/17 [==============================] - 0s 1ms/step - loss: 0.5095 - accuracy: 0.7486\n",
      "Epoch 45/50\n",
      "17/17 [==============================] - 0s 1ms/step - loss: 0.5093 - accuracy: 0.7579\n",
      "Epoch 46/50\n",
      "17/17 [==============================] - 0s 1ms/step - loss: 0.5136 - accuracy: 0.7449\n",
      "Epoch 47/50\n",
      "17/17 [==============================] - 0s 1ms/step - loss: 0.5321 - accuracy: 0.7505\n",
      "Epoch 48/50\n",
      "17/17 [==============================] - 0s 1ms/step - loss: 0.5798 - accuracy: 0.7337\n",
      "Epoch 49/50\n",
      "17/17 [==============================] - 0s 1ms/step - loss: 0.5802 - accuracy: 0.7039\n",
      "Epoch 50/50\n",
      "17/17 [==============================] - 0s 1ms/step - loss: 0.5346 - accuracy: 0.7412\n"
     ]
    },
    {
     "data": {
      "text/plain": [
       "<keras.callbacks.History at 0x1f4fbfd2050>"
      ]
     },
     "execution_count": 133,
     "metadata": {},
     "output_type": "execute_result"
    }
   ],
   "source": [
    "# Training for 50 epochs\n",
    "model.fit(x_train,y_train,epochs=50)"
   ]
  },
  {
   "cell_type": "code",
   "execution_count": 134,
   "id": "94e3f525",
   "metadata": {},
   "outputs": [
    {
     "name": "stdout",
     "output_type": "stream",
     "text": [
      "17/17 [==============================] - 0s 870us/step - loss: 0.5489 - accuracy: 0.7542\n",
      "Training Accuracy:  75.42%\n",
      "\n",
      "8/8 [==============================] - 0s 773us/step - loss: 0.7185 - accuracy: 0.6667\n",
      "Testing Accuracy:  66.67%\n",
      "\n"
     ]
    }
   ],
   "source": [
    "# Train and Test Accuracy\n",
    "scores = model.evaluate(x_train,y_train)\n",
    "print(\"Training Accuracy: % .2f%%\\n\" % (scores[1]*100))\n",
    "scores = model.evaluate(x_test,y_test)\n",
    "print(\"Testing Accuracy: % .2f%%\\n\" % (scores[1]*100))"
   ]
  },
  {
   "cell_type": "code",
   "execution_count": 135,
   "id": "a44c6028",
   "metadata": {},
   "outputs": [
    {
     "name": "stdout",
     "output_type": "stream",
     "text": [
      "8/8 [==============================] - 0s 810us/step\n",
      "[[127  30]\n",
      " [ 47  27]]\n"
     ]
    }
   ],
   "source": [
    "from sklearn.metrics import confusion_matrix\n",
    "y_test_pred = (model.predict(x_test)>0.5).astype(\"int32\")\n",
    "cm = confusion_matrix(y_test,y_test_pred)\n",
    "print(cm)"
   ]
  },
  {
   "cell_type": "code",
   "execution_count": 136,
   "id": "1452edc2",
   "metadata": {},
   "outputs": [
    {
     "data": {
      "image/png": "[encoded data removed]",
      "text/plain": [
       "<Figure size 640x480 with 1 Axes>"
      ]
     },
     "metadata": {},
     "output_type": "display_data"
    }
   ],
   "source": [
    "ax = sns.heatmap(cm, annot=True, xticklabels=[\"No Diabetics\",\"Diabetics\"], yticklabels=[\"No Diabetics\",\"Diabetics\"],\n",
    "                cbar=False,cmap='Blues')\n",
    "ax.set_xlabel('Prediction')\n",
    "ax.set_ylabel('Actual')\n",
    "plt.show()"
   ]
  },
  {
   "cell_type": "raw",
   "id": "e1639ec3",
   "metadata": {},
   "source": []
  },
  {
   "cell_type": "code",
   "execution_count": 137,
   "id": "3f61d5e0",
   "metadata": {
    "scrolled": false
   },
   "outputs": [
    {
     "name": "stdout",
     "output_type": "stream",
     "text": [
      "Epoch 1/100\n",
      "17/17 [==============================] - 0s 2ms/step - loss: 0.5378 - accuracy: 0.7095\n",
      "Epoch 2/100\n",
      "17/17 [==============================] - 0s 1ms/step - loss: 0.5085 - accuracy: 0.7654\n",
      "Epoch 3/100\n",
      "17/17 [==============================] - 0s 2ms/step - loss: 0.5060 - accuracy: 0.7598\n",
      "Epoch 4/100\n",
      "17/17 [==============================] - 0s 1ms/step - loss: 0.5213 - accuracy: 0.7318\n",
      "Epoch 5/100\n",
      "17/17 [==============================] - 0s 1ms/step - loss: 0.5173 - accuracy: 0.7467\n",
      "Epoch 6/100\n",
      "17/17 [==============================] - 0s 1ms/step - loss: 0.4985 - accuracy: 0.7505\n",
      "Epoch 7/100\n",
      "17/17 [==============================] - 0s 1ms/step - loss: 0.5015 - accuracy: 0.7654\n",
      "Epoch 8/100\n",
      "17/17 [==============================] - 0s 1ms/step - loss: 0.5026 - accuracy: 0.7579\n",
      "Epoch 9/100\n",
      "17/17 [==============================] - 0s 951us/step - loss: 0.5019 - accuracy: 0.7598\n",
      "Epoch 10/100\n",
      "17/17 [==============================] - 0s 1ms/step - loss: 0.5724 - accuracy: 0.7281\n",
      "Epoch 11/100\n",
      "17/17 [==============================] - 0s 1ms/step - loss: 0.5108 - accuracy: 0.7523\n",
      "Epoch 12/100\n",
      "17/17 [==============================] - 0s 2ms/step - loss: 0.4910 - accuracy: 0.7728\n",
      "Epoch 13/100\n",
      "17/17 [==============================] - 0s 2ms/step - loss: 0.4988 - accuracy: 0.7598\n",
      "Epoch 14/100\n",
      "17/17 [==============================] - 0s 1ms/step - loss: 0.5076 - accuracy: 0.7561\n",
      "Epoch 15/100\n",
      "17/17 [==============================] - 0s 1ms/step - loss: 0.4930 - accuracy: 0.7561\n",
      "Epoch 16/100\n",
      "17/17 [==============================] - 0s 2ms/step - loss: 0.5506 - accuracy: 0.7374\n",
      "Epoch 17/100\n",
      "17/17 [==============================] - 0s 1ms/step - loss: 0.5319 - accuracy: 0.7412\n",
      "Epoch 18/100\n",
      "17/17 [==============================] - 0s 1ms/step - loss: 0.5208 - accuracy: 0.7691\n",
      "Epoch 19/100\n",
      "17/17 [==============================] - 0s 1ms/step - loss: 0.5070 - accuracy: 0.7616\n",
      "Epoch 20/100\n",
      "17/17 [==============================] - 0s 1ms/step - loss: 0.5267 - accuracy: 0.7467\n",
      "Epoch 21/100\n",
      "17/17 [==============================] - 0s 1ms/step - loss: 0.4948 - accuracy: 0.7821\n",
      "Epoch 22/100\n",
      "17/17 [==============================] - 0s 1ms/step - loss: 0.5077 - accuracy: 0.7430\n",
      "Epoch 23/100\n",
      "17/17 [==============================] - 0s 1ms/step - loss: 0.4854 - accuracy: 0.7709\n",
      "Epoch 24/100\n",
      "17/17 [==============================] - 0s 1ms/step - loss: 0.5066 - accuracy: 0.7672\n",
      "Epoch 25/100\n",
      "17/17 [==============================] - 0s 1ms/step - loss: 0.4742 - accuracy: 0.7654\n",
      "Epoch 26/100\n",
      "17/17 [==============================] - 0s 1ms/step - loss: 0.4816 - accuracy: 0.7803\n",
      "Epoch 27/100\n",
      "17/17 [==============================] - 0s 1ms/step - loss: 0.4732 - accuracy: 0.7728\n",
      "Epoch 28/100\n",
      "17/17 [==============================] - 0s 1ms/step - loss: 0.4713 - accuracy: 0.7728\n",
      "Epoch 29/100\n",
      "17/17 [==============================] - 0s 1ms/step - loss: 0.4655 - accuracy: 0.7840\n",
      "Epoch 30/100\n",
      "17/17 [==============================] - 0s 1ms/step - loss: 0.4953 - accuracy: 0.7635\n",
      "Epoch 31/100\n",
      "17/17 [==============================] - 0s 1ms/step - loss: 0.5234 - accuracy: 0.7356\n",
      "Epoch 32/100\n",
      "17/17 [==============================] - 0s 1ms/step - loss: 0.4991 - accuracy: 0.7542\n",
      "Epoch 33/100\n",
      "17/17 [==============================] - 0s 1ms/step - loss: 0.4843 - accuracy: 0.7728\n",
      "Epoch 34/100\n",
      "17/17 [==============================] - 0s 1ms/step - loss: 0.5108 - accuracy: 0.7486\n",
      "Epoch 35/100\n",
      "17/17 [==============================] - 0s 1ms/step - loss: 0.5438 - accuracy: 0.7505\n",
      "Epoch 36/100\n",
      "17/17 [==============================] - 0s 1ms/step - loss: 0.4698 - accuracy: 0.7691\n",
      "Epoch 37/100\n",
      "17/17 [==============================] - 0s 2ms/step - loss: 0.4717 - accuracy: 0.7765\n",
      "Epoch 38/100\n",
      "17/17 [==============================] - 0s 1ms/step - loss: 0.4748 - accuracy: 0.7598\n",
      "Epoch 39/100\n",
      "17/17 [==============================] - 0s 2ms/step - loss: 0.4765 - accuracy: 0.7691\n",
      "Epoch 40/100\n",
      "17/17 [==============================] - 0s 823us/step - loss: 0.4810 - accuracy: 0.7765\n",
      "Epoch 41/100\n",
      "17/17 [==============================] - 0s 1ms/step - loss: 0.4856 - accuracy: 0.7654\n",
      "Epoch 42/100\n",
      "17/17 [==============================] - 0s 1ms/step - loss: 0.4992 - accuracy: 0.7765\n",
      "Epoch 43/100\n",
      "17/17 [==============================] - 0s 2ms/step - loss: 0.5447 - accuracy: 0.7337\n",
      "Epoch 44/100\n",
      "17/17 [==============================] - 0s 812us/step - loss: 0.5551 - accuracy: 0.7356\n",
      "Epoch 45/100\n",
      "17/17 [==============================] - 0s 1ms/step - loss: 0.4736 - accuracy: 0.7672\n",
      "Epoch 46/100\n",
      "17/17 [==============================] - 0s 1ms/step - loss: 0.4819 - accuracy: 0.7691\n",
      "Epoch 47/100\n",
      "17/17 [==============================] - 0s 1ms/step - loss: 0.4736 - accuracy: 0.7747\n",
      "Epoch 48/100\n",
      "17/17 [==============================] - 0s 2ms/step - loss: 0.4842 - accuracy: 0.7803\n",
      "Epoch 49/100\n",
      "17/17 [==============================] - 0s 1ms/step - loss: 0.4754 - accuracy: 0.7784\n",
      "Epoch 50/100\n",
      "17/17 [==============================] - 0s 1ms/step - loss: 0.5140 - accuracy: 0.7709\n",
      "Epoch 51/100\n",
      "17/17 [==============================] - 0s 1ms/step - loss: 0.4910 - accuracy: 0.7654\n",
      "Epoch 52/100\n",
      "17/17 [==============================] - 0s 2ms/step - loss: 0.5500 - accuracy: 0.7356\n",
      "Epoch 53/100\n",
      "17/17 [==============================] - 0s 1ms/step - loss: 0.5241 - accuracy: 0.7356\n",
      "Epoch 54/100\n",
      "17/17 [==============================] - 0s 969us/step - loss: 0.4711 - accuracy: 0.7635\n",
      "Epoch 55/100\n",
      "17/17 [==============================] - 0s 2ms/step - loss: 0.5048 - accuracy: 0.7374\n",
      "Epoch 56/100\n",
      "17/17 [==============================] - 0s 1ms/step - loss: 0.4997 - accuracy: 0.7505\n",
      "Epoch 57/100\n",
      "17/17 [==============================] - 0s 1ms/step - loss: 0.5021 - accuracy: 0.7765\n",
      "Epoch 58/100\n",
      "17/17 [==============================] - 0s 1ms/step - loss: 0.4860 - accuracy: 0.7672\n",
      "Epoch 59/100\n",
      "17/17 [==============================] - 0s 1ms/step - loss: 0.4626 - accuracy: 0.7747\n",
      "Epoch 60/100\n",
      "17/17 [==============================] - 0s 1ms/step - loss: 0.4724 - accuracy: 0.7709\n",
      "Epoch 61/100\n",
      "17/17 [==============================] - 0s 1ms/step - loss: 0.4573 - accuracy: 0.7840\n",
      "Epoch 62/100\n",
      "17/17 [==============================] - 0s 1ms/step - loss: 0.4661 - accuracy: 0.7803\n",
      "Epoch 63/100\n",
      "17/17 [==============================] - 0s 1ms/step - loss: 0.4698 - accuracy: 0.7747\n",
      "Epoch 64/100\n",
      "17/17 [==============================] - 0s 1ms/step - loss: 0.4672 - accuracy: 0.7933\n",
      "Epoch 65/100\n",
      "17/17 [==============================] - 0s 1ms/step - loss: 0.4708 - accuracy: 0.7803\n",
      "Epoch 66/100\n",
      "17/17 [==============================] - 0s 2ms/step - loss: 0.4664 - accuracy: 0.7542\n",
      "Epoch 67/100\n",
      "17/17 [==============================] - 0s 1ms/step - loss: 0.4710 - accuracy: 0.7914\n",
      "Epoch 68/100\n",
      "17/17 [==============================] - 0s 891us/step - loss: 0.4582 - accuracy: 0.7803\n",
      "Epoch 69/100\n",
      "17/17 [==============================] - 0s 1ms/step - loss: 0.4716 - accuracy: 0.7803\n",
      "Epoch 70/100\n",
      "17/17 [==============================] - 0s 1ms/step - loss: 0.4833 - accuracy: 0.7691\n",
      "Epoch 71/100\n",
      "17/17 [==============================] - 0s 1ms/step - loss: 0.4667 - accuracy: 0.7896\n",
      "Epoch 72/100\n",
      "17/17 [==============================] - 0s 1ms/step - loss: 0.4826 - accuracy: 0.7691\n",
      "Epoch 73/100\n",
      "17/17 [==============================] - 0s 1ms/step - loss: 0.5066 - accuracy: 0.7598\n",
      "Epoch 74/100\n",
      "17/17 [==============================] - 0s 1ms/step - loss: 0.4566 - accuracy: 0.7821\n",
      "Epoch 75/100\n",
      "17/17 [==============================] - 0s 1ms/step - loss: 0.4565 - accuracy: 0.7803\n",
      "Epoch 76/100\n",
      "17/17 [==============================] - 0s 1ms/step - loss: 0.4790 - accuracy: 0.7672\n",
      "Epoch 77/100\n",
      "17/17 [==============================] - 0s 2ms/step - loss: 0.4701 - accuracy: 0.7672\n",
      "Epoch 78/100\n",
      "17/17 [==============================] - 0s 1ms/step - loss: 0.4736 - accuracy: 0.7672\n",
      "Epoch 79/100\n",
      "17/17 [==============================] - 0s 1ms/step - loss: 0.4512 - accuracy: 0.7914\n",
      "Epoch 80/100\n",
      "17/17 [==============================] - 0s 1ms/step - loss: 0.4773 - accuracy: 0.7803\n",
      "Epoch 81/100\n",
      "17/17 [==============================] - 0s 1ms/step - loss: 0.5157 - accuracy: 0.7505\n",
      "Epoch 82/100\n"
     ]
    },
    {
     "name": "stdout",
     "output_type": "stream",
     "text": [
      "17/17 [==============================] - 0s 2ms/step - loss: 0.4667 - accuracy: 0.7598\n",
      "Epoch 83/100\n",
      "17/17 [==============================] - 0s 2ms/step - loss: 0.4400 - accuracy: 0.7989\n",
      "Epoch 84/100\n",
      "17/17 [==============================] - 0s 1ms/step - loss: 0.4574 - accuracy: 0.7858\n",
      "Epoch 85/100\n",
      "17/17 [==============================] - 0s 1ms/step - loss: 0.4854 - accuracy: 0.7467\n",
      "Epoch 86/100\n",
      "17/17 [==============================] - 0s 1ms/step - loss: 0.5115 - accuracy: 0.7505\n",
      "Epoch 87/100\n",
      "17/17 [==============================] - 0s 1ms/step - loss: 0.4866 - accuracy: 0.7691\n",
      "Epoch 88/100\n",
      "17/17 [==============================] - 0s 1ms/step - loss: 0.4522 - accuracy: 0.7858\n",
      "Epoch 89/100\n",
      "17/17 [==============================] - 0s 1ms/step - loss: 0.4652 - accuracy: 0.7784\n",
      "Epoch 90/100\n",
      "17/17 [==============================] - 0s 1ms/step - loss: 0.4410 - accuracy: 0.7970\n",
      "Epoch 91/100\n",
      "17/17 [==============================] - 0s 1ms/step - loss: 0.4635 - accuracy: 0.7691\n",
      "Epoch 92/100\n",
      "17/17 [==============================] - 0s 1ms/step - loss: 0.5118 - accuracy: 0.7449\n",
      "Epoch 93/100\n",
      "17/17 [==============================] - 0s 2ms/step - loss: 0.4674 - accuracy: 0.7598\n",
      "Epoch 94/100\n",
      "17/17 [==============================] - 0s 1ms/step - loss: 0.4676 - accuracy: 0.7691\n",
      "Epoch 95/100\n",
      "17/17 [==============================] - 0s 1ms/step - loss: 0.4508 - accuracy: 0.8045\n",
      "Epoch 96/100\n",
      "17/17 [==============================] - 0s 1ms/step - loss: 0.5058 - accuracy: 0.7654\n",
      "Epoch 97/100\n",
      "17/17 [==============================] - 0s 2ms/step - loss: 0.4483 - accuracy: 0.7784\n",
      "Epoch 98/100\n",
      "17/17 [==============================] - 0s 1ms/step - loss: 0.4489 - accuracy: 0.8045\n",
      "Epoch 99/100\n",
      "17/17 [==============================] - 0s 1ms/step - loss: 0.4565 - accuracy: 0.7877\n",
      "Epoch 100/100\n",
      "17/17 [==============================] - 0s 1ms/step - loss: 0.4939 - accuracy: 0.7616\n"
     ]
    },
    {
     "data": {
      "text/plain": [
       "<keras.callbacks.History at 0x1f4fc058ad0>"
      ]
     },
     "execution_count": 137,
     "metadata": {},
     "output_type": "execute_result"
    }
   ],
   "source": [
    "# Training for 100 epochs\n",
    "model.fit(x_train,y_train,epochs=100)"
   ]
  },
  {
   "cell_type": "code",
   "execution_count": 138,
   "id": "f420a2ad",
   "metadata": {},
   "outputs": [
    {
     "name": "stdout",
     "output_type": "stream",
     "text": [
      "17/17 [==============================] - 0s 896us/step - loss: 0.4264 - accuracy: 0.7989\n",
      "Training Accuracy:  79.89%\n",
      "\n",
      "8/8 [==============================] - 0s 1ms/step - loss: 0.6680 - accuracy: 0.6797\n",
      "Testing Accuracy:  67.97%\n",
      "\n"
     ]
    }
   ],
   "source": [
    "# Train and Test Accuracy\n",
    "scores = model.evaluate(x_train,y_train)\n",
    "print(\"Training Accuracy: % .2f%%\\n\" % (scores[1]*100))\n",
    "scores = model.evaluate(x_test,y_test)\n",
    "print(\"Testing Accuracy: % .2f%%\\n\" % (scores[1]*100))"
   ]
  },
  {
   "cell_type": "code",
   "execution_count": 139,
   "id": "373849db",
   "metadata": {},
   "outputs": [
    {
     "name": "stdout",
     "output_type": "stream",
     "text": [
      "8/8 [==============================] - 0s 1ms/step\n",
      "[[122  35]\n",
      " [ 39  35]]\n"
     ]
    }
   ],
   "source": [
    "from sklearn.metrics import confusion_matrix\n",
    "y_test_pred = (model.predict(x_test)>0.5).astype(\"int32\")\n",
    "cm = confusion_matrix(y_test,y_test_pred)\n",
    "print(cm)"
   ]
  },
  {
   "cell_type": "code",
   "execution_count": 140,
   "id": "64f6f702",
   "metadata": {},
   "outputs": [
    {
     "data": {
      "image/png": "[encoded data removed]",
      "text/plain": [
       "<Figure size 640x480 with 1 Axes>"
      ]
     },
     "metadata": {},
     "output_type": "display_data"
    }
   ],
   "source": [
    "ax = sns.heatmap(cm, annot=True, xticklabels=[\"No Diabetics\",\"Diabetics\"], yticklabels=[\"No Diabetics\",\"Diabetics\"],\n",
    "                cbar=False,cmap='Blues')\n",
    "ax.set_xlabel('Prediction')\n",
    "ax.set_ylabel('Actual')\n",
    "plt.show()"
   ]
  },
  {
   "cell_type": "raw",
   "id": "a68e8cce",
   "metadata": {},
   "source": []
  },
  {
   "cell_type": "code",
   "execution_count": 141,
   "id": "8723511f",
   "metadata": {
    "scrolled": false
   },
   "outputs": [
    {
     "name": "stdout",
     "output_type": "stream",
     "text": [
      "Epoch 1/200\n",
      "17/17 [==============================] - 0s 1ms/step - loss: 0.4484 - accuracy: 0.7952\n",
      "Epoch 2/200\n",
      "17/17 [==============================] - 0s 2ms/step - loss: 0.4515 - accuracy: 0.7896\n",
      "Epoch 3/200\n",
      "17/17 [==============================] - 0s 1ms/step - loss: 0.4491 - accuracy: 0.7840\n",
      "Epoch 4/200\n",
      "17/17 [==============================] - 0s 1ms/step - loss: 0.4373 - accuracy: 0.7914\n",
      "Epoch 5/200\n",
      "17/17 [==============================] - 0s 1ms/step - loss: 0.4372 - accuracy: 0.7858\n",
      "Epoch 6/200\n",
      "17/17 [==============================] - 0s 1ms/step - loss: 0.4407 - accuracy: 0.7952\n",
      "Epoch 7/200\n",
      "17/17 [==============================] - 0s 1ms/step - loss: 0.4379 - accuracy: 0.7933\n",
      "Epoch 8/200\n",
      "17/17 [==============================] - 0s 1ms/step - loss: 0.4521 - accuracy: 0.7728\n",
      "Epoch 9/200\n",
      "17/17 [==============================] - 0s 1ms/step - loss: 0.4402 - accuracy: 0.7914\n",
      "Epoch 10/200\n",
      "17/17 [==============================] - 0s 1ms/step - loss: 0.4232 - accuracy: 0.8101\n",
      "Epoch 11/200\n",
      "17/17 [==============================] - 0s 1ms/step - loss: 0.4293 - accuracy: 0.8026\n",
      "Epoch 12/200\n",
      "17/17 [==============================] - 0s 1ms/step - loss: 0.4844 - accuracy: 0.7635\n",
      "Epoch 13/200\n",
      "17/17 [==============================] - 0s 1ms/step - loss: 0.4493 - accuracy: 0.7914\n",
      "Epoch 14/200\n",
      "17/17 [==============================] - 0s 1ms/step - loss: 0.4589 - accuracy: 0.7858\n",
      "Epoch 15/200\n",
      "17/17 [==============================] - 0s 1ms/step - loss: 0.4652 - accuracy: 0.7784\n",
      "Epoch 16/200\n",
      "17/17 [==============================] - 0s 1ms/step - loss: 0.4385 - accuracy: 0.7933\n",
      "Epoch 17/200\n",
      "17/17 [==============================] - 0s 1ms/step - loss: 0.4495 - accuracy: 0.7747\n",
      "Epoch 18/200\n",
      "17/17 [==============================] - 0s 1ms/step - loss: 0.4405 - accuracy: 0.7989\n",
      "Epoch 19/200\n",
      "17/17 [==============================] - 0s 1ms/step - loss: 0.4359 - accuracy: 0.8026\n",
      "Epoch 20/200\n",
      "17/17 [==============================] - 0s 1ms/step - loss: 0.4524 - accuracy: 0.7821\n",
      "Epoch 21/200\n",
      "17/17 [==============================] - 0s 2ms/step - loss: 0.4274 - accuracy: 0.8045\n",
      "Epoch 22/200\n",
      "17/17 [==============================] - 0s 1ms/step - loss: 0.4400 - accuracy: 0.8101\n",
      "Epoch 23/200\n",
      "17/17 [==============================] - 0s 1ms/step - loss: 0.4562 - accuracy: 0.7877\n",
      "Epoch 24/200\n",
      "17/17 [==============================] - 0s 1ms/step - loss: 0.4851 - accuracy: 0.7561\n",
      "Epoch 25/200\n",
      "17/17 [==============================] - 0s 1ms/step - loss: 0.5601 - accuracy: 0.7263\n",
      "Epoch 26/200\n",
      "17/17 [==============================] - 0s 1ms/step - loss: 0.4664 - accuracy: 0.7784\n",
      "Epoch 27/200\n",
      "17/17 [==============================] - 0s 1ms/step - loss: 0.4291 - accuracy: 0.8082\n",
      "Epoch 28/200\n",
      "17/17 [==============================] - 0s 1ms/step - loss: 0.4414 - accuracy: 0.7784\n",
      "Epoch 29/200\n",
      "17/17 [==============================] - 0s 1ms/step - loss: 0.4350 - accuracy: 0.7858\n",
      "Epoch 30/200\n",
      "17/17 [==============================] - 0s 1ms/step - loss: 0.4480 - accuracy: 0.8007\n",
      "Epoch 31/200\n",
      "17/17 [==============================] - 0s 1ms/step - loss: 0.4333 - accuracy: 0.7840\n",
      "Epoch 32/200\n",
      "17/17 [==============================] - 0s 1ms/step - loss: 0.4371 - accuracy: 0.7877\n",
      "Epoch 33/200\n",
      "17/17 [==============================] - 0s 1ms/step - loss: 0.4292 - accuracy: 0.7933\n",
      "Epoch 34/200\n",
      "17/17 [==============================] - 0s 1ms/step - loss: 0.4278 - accuracy: 0.7952\n",
      "Epoch 35/200\n",
      "17/17 [==============================] - 0s 2ms/step - loss: 0.4318 - accuracy: 0.7970\n",
      "Epoch 36/200\n",
      "17/17 [==============================] - 0s 1ms/step - loss: 0.4328 - accuracy: 0.7952\n",
      "Epoch 37/200\n",
      "17/17 [==============================] - 0s 1ms/step - loss: 0.4155 - accuracy: 0.8138\n",
      "Epoch 38/200\n",
      "17/17 [==============================] - 0s 1ms/step - loss: 0.4370 - accuracy: 0.7989\n",
      "Epoch 39/200\n",
      "17/17 [==============================] - 0s 1ms/step - loss: 0.4432 - accuracy: 0.7840\n",
      "Epoch 40/200\n",
      "17/17 [==============================] - 0s 1ms/step - loss: 0.4573 - accuracy: 0.7691\n",
      "Epoch 41/200\n",
      "17/17 [==============================] - 0s 1ms/step - loss: 0.4223 - accuracy: 0.8101\n",
      "Epoch 42/200\n",
      "17/17 [==============================] - 0s 1ms/step - loss: 0.4234 - accuracy: 0.8026\n",
      "Epoch 43/200\n",
      "17/17 [==============================] - 0s 1ms/step - loss: 0.4283 - accuracy: 0.8101\n",
      "Epoch 44/200\n",
      "17/17 [==============================] - 0s 1ms/step - loss: 0.4248 - accuracy: 0.7914\n",
      "Epoch 45/200\n",
      "17/17 [==============================] - 0s 1ms/step - loss: 0.4293 - accuracy: 0.8063\n",
      "Epoch 46/200\n",
      "17/17 [==============================] - 0s 1ms/step - loss: 0.4191 - accuracy: 0.7970\n",
      "Epoch 47/200\n",
      "17/17 [==============================] - 0s 1ms/step - loss: 0.4251 - accuracy: 0.7952\n",
      "Epoch 48/200\n",
      "17/17 [==============================] - 0s 1ms/step - loss: 0.4353 - accuracy: 0.7970\n",
      "Epoch 49/200\n",
      "17/17 [==============================] - 0s 1ms/step - loss: 0.4244 - accuracy: 0.7914\n",
      "Epoch 50/200\n",
      "17/17 [==============================] - 0s 1ms/step - loss: 0.4321 - accuracy: 0.7896\n",
      "Epoch 51/200\n",
      "17/17 [==============================] - 0s 1ms/step - loss: 0.4301 - accuracy: 0.7896\n",
      "Epoch 52/200\n",
      "17/17 [==============================] - 0s 2ms/step - loss: 0.4408 - accuracy: 0.8007\n",
      "Epoch 53/200\n",
      "17/17 [==============================] - 0s 1ms/step - loss: 0.4383 - accuracy: 0.8007\n",
      "Epoch 54/200\n",
      "17/17 [==============================] - 0s 1ms/step - loss: 0.4998 - accuracy: 0.7765\n",
      "Epoch 55/200\n",
      "17/17 [==============================] - 0s 2ms/step - loss: 0.4380 - accuracy: 0.7933\n",
      "Epoch 56/200\n",
      "17/17 [==============================] - 0s 1ms/step - loss: 0.4148 - accuracy: 0.8119\n",
      "Epoch 57/200\n",
      "17/17 [==============================] - 0s 1ms/step - loss: 0.4270 - accuracy: 0.7933\n",
      "Epoch 58/200\n",
      "17/17 [==============================] - 0s 1ms/step - loss: 0.4236 - accuracy: 0.8045\n",
      "Epoch 59/200\n",
      "17/17 [==============================] - 0s 1ms/step - loss: 0.4280 - accuracy: 0.7914\n",
      "Epoch 60/200\n",
      "17/17 [==============================] - 0s 1ms/step - loss: 0.4118 - accuracy: 0.8063\n",
      "Epoch 61/200\n",
      "17/17 [==============================] - 0s 1ms/step - loss: 0.4329 - accuracy: 0.8045\n",
      "Epoch 62/200\n",
      "17/17 [==============================] - 0s 1ms/step - loss: 0.4321 - accuracy: 0.7821\n",
      "Epoch 63/200\n",
      "17/17 [==============================] - 0s 1ms/step - loss: 0.4172 - accuracy: 0.8063\n",
      "Epoch 64/200\n",
      "17/17 [==============================] - 0s 3ms/step - loss: 0.4276 - accuracy: 0.7896\n",
      "Epoch 65/200\n",
      "17/17 [==============================] - 0s 1ms/step - loss: 0.4462 - accuracy: 0.7672\n",
      "Epoch 66/200\n",
      "17/17 [==============================] - 0s 2ms/step - loss: 0.4551 - accuracy: 0.7709\n",
      "Epoch 67/200\n",
      "17/17 [==============================] - 0s 1ms/step - loss: 0.4401 - accuracy: 0.7840\n",
      "Epoch 68/200\n",
      "17/17 [==============================] - 0s 1ms/step - loss: 0.4368 - accuracy: 0.7877\n",
      "Epoch 69/200\n",
      "17/17 [==============================] - 0s 1ms/step - loss: 0.4152 - accuracy: 0.7989\n",
      "Epoch 70/200\n",
      "17/17 [==============================] - 0s 1ms/step - loss: 0.4103 - accuracy: 0.8101\n",
      "Epoch 71/200\n",
      "17/17 [==============================] - 0s 1ms/step - loss: 0.4280 - accuracy: 0.8063\n",
      "Epoch 72/200\n",
      "17/17 [==============================] - 0s 1ms/step - loss: 0.4422 - accuracy: 0.7877\n",
      "Epoch 73/200\n",
      "17/17 [==============================] - 0s 1ms/step - loss: 0.4298 - accuracy: 0.7821\n",
      "Epoch 74/200\n",
      "17/17 [==============================] - 0s 2ms/step - loss: 0.4163 - accuracy: 0.7989\n",
      "Epoch 75/200\n",
      "17/17 [==============================] - 0s 1ms/step - loss: 0.4390 - accuracy: 0.7877\n",
      "Epoch 76/200\n",
      "17/17 [==============================] - 0s 1ms/step - loss: 0.4099 - accuracy: 0.8138\n",
      "Epoch 77/200\n",
      "17/17 [==============================] - 0s 1ms/step - loss: 0.4445 - accuracy: 0.7896\n",
      "Epoch 78/200\n",
      "17/17 [==============================] - 0s 1ms/step - loss: 0.4183 - accuracy: 0.8026\n",
      "Epoch 79/200\n",
      "17/17 [==============================] - 0s 1ms/step - loss: 0.3982 - accuracy: 0.8156\n",
      "Epoch 80/200\n",
      "17/17 [==============================] - 0s 1ms/step - loss: 0.4183 - accuracy: 0.8045\n",
      "Epoch 81/200\n",
      "17/17 [==============================] - 0s 1ms/step - loss: 0.4439 - accuracy: 0.7858\n",
      "Epoch 82/200\n",
      "17/17 [==============================] - 0s 1ms/step - loss: 0.4262 - accuracy: 0.8119\n",
      "Epoch 83/200\n"
     ]
    },
    {
     "name": "stdout",
     "output_type": "stream",
     "text": [
      "17/17 [==============================] - 0s 1ms/step - loss: 0.4099 - accuracy: 0.7914\n",
      "Epoch 84/200\n",
      "17/17 [==============================] - 0s 1ms/step - loss: 0.4148 - accuracy: 0.7914\n",
      "Epoch 85/200\n",
      "17/17 [==============================] - 0s 1ms/step - loss: 0.3992 - accuracy: 0.8138\n",
      "Epoch 86/200\n",
      "17/17 [==============================] - 0s 1ms/step - loss: 0.4020 - accuracy: 0.8287\n",
      "Epoch 87/200\n",
      "17/17 [==============================] - 0s 1ms/step - loss: 0.4066 - accuracy: 0.8101\n",
      "Epoch 88/200\n",
      "17/17 [==============================] - 0s 1ms/step - loss: 0.4390 - accuracy: 0.7877\n",
      "Epoch 89/200\n",
      "17/17 [==============================] - 0s 1ms/step - loss: 0.4221 - accuracy: 0.8045\n",
      "Epoch 90/200\n",
      "17/17 [==============================] - 0s 1ms/step - loss: 0.4253 - accuracy: 0.8082\n",
      "Epoch 91/200\n",
      "17/17 [==============================] - 0s 1ms/step - loss: 0.4266 - accuracy: 0.8138\n",
      "Epoch 92/200\n",
      "17/17 [==============================] - 0s 1ms/step - loss: 0.4085 - accuracy: 0.8119\n",
      "Epoch 93/200\n",
      "17/17 [==============================] - 0s 1ms/step - loss: 0.4296 - accuracy: 0.8063\n",
      "Epoch 94/200\n",
      "17/17 [==============================] - 0s 1ms/step - loss: 0.4242 - accuracy: 0.8082\n",
      "Epoch 95/200\n",
      "17/17 [==============================] - 0s 1ms/step - loss: 0.4219 - accuracy: 0.7914\n",
      "Epoch 96/200\n",
      "17/17 [==============================] - 0s 1ms/step - loss: 0.4600 - accuracy: 0.7840\n",
      "Epoch 97/200\n",
      "17/17 [==============================] - 0s 1ms/step - loss: 0.4280 - accuracy: 0.7858\n",
      "Epoch 98/200\n",
      "17/17 [==============================] - 0s 1ms/step - loss: 0.4096 - accuracy: 0.8101\n",
      "Epoch 99/200\n",
      "17/17 [==============================] - 0s 1ms/step - loss: 0.3996 - accuracy: 0.8194\n",
      "Epoch 100/200\n",
      "17/17 [==============================] - 0s 1ms/step - loss: 0.4317 - accuracy: 0.8082\n",
      "Epoch 101/200\n",
      "17/17 [==============================] - 0s 1ms/step - loss: 0.4051 - accuracy: 0.8175\n",
      "Epoch 102/200\n",
      "17/17 [==============================] - 0s 1ms/step - loss: 0.3985 - accuracy: 0.8063\n",
      "Epoch 103/200\n",
      "17/17 [==============================] - 0s 1ms/step - loss: 0.4240 - accuracy: 0.7989\n",
      "Epoch 104/200\n",
      "17/17 [==============================] - 0s 1ms/step - loss: 0.4688 - accuracy: 0.7654\n",
      "Epoch 105/200\n",
      "17/17 [==============================] - 0s 2ms/step - loss: 0.4462 - accuracy: 0.7970\n",
      "Epoch 106/200\n",
      "17/17 [==============================] - 0s 1ms/step - loss: 0.5325 - accuracy: 0.7523\n",
      "Epoch 107/200\n",
      "17/17 [==============================] - 0s 1ms/step - loss: 0.4635 - accuracy: 0.7747\n",
      "Epoch 108/200\n",
      "17/17 [==============================] - 0s 1ms/step - loss: 0.4284 - accuracy: 0.7933\n",
      "Epoch 109/200\n",
      "17/17 [==============================] - 0s 2ms/step - loss: 0.3944 - accuracy: 0.8324\n",
      "Epoch 110/200\n",
      "17/17 [==============================] - 0s 1ms/step - loss: 0.3918 - accuracy: 0.8305\n",
      "Epoch 111/200\n",
      "17/17 [==============================] - 0s 2ms/step - loss: 0.4089 - accuracy: 0.8082\n",
      "Epoch 112/200\n",
      "17/17 [==============================] - 0s 2ms/step - loss: 0.4352 - accuracy: 0.8045\n",
      "Epoch 113/200\n",
      "17/17 [==============================] - 0s 2ms/step - loss: 0.4497 - accuracy: 0.7840\n",
      "Epoch 114/200\n",
      "17/17 [==============================] - 0s 2ms/step - loss: 0.4237 - accuracy: 0.8082\n",
      "Epoch 115/200\n",
      "17/17 [==============================] - 0s 2ms/step - loss: 0.4172 - accuracy: 0.8082\n",
      "Epoch 116/200\n",
      "17/17 [==============================] - 0s 1ms/step - loss: 0.4385 - accuracy: 0.7765\n",
      "Epoch 117/200\n",
      "17/17 [==============================] - 0s 1ms/step - loss: 0.4493 - accuracy: 0.7840\n",
      "Epoch 118/200\n",
      "17/17 [==============================] - 0s 1ms/step - loss: 0.4520 - accuracy: 0.7784\n",
      "Epoch 119/200\n",
      "17/17 [==============================] - 0s 2ms/step - loss: 0.4110 - accuracy: 0.8156\n",
      "Epoch 120/200\n",
      "17/17 [==============================] - 0s 1ms/step - loss: 0.4015 - accuracy: 0.8212\n",
      "Epoch 121/200\n",
      "17/17 [==============================] - 0s 1ms/step - loss: 0.4226 - accuracy: 0.7989\n",
      "Epoch 122/200\n",
      "17/17 [==============================] - 0s 2ms/step - loss: 0.4162 - accuracy: 0.8026\n",
      "Epoch 123/200\n",
      "17/17 [==============================] - 0s 1ms/step - loss: 0.4204 - accuracy: 0.7952\n",
      "Epoch 124/200\n",
      "17/17 [==============================] - 0s 1ms/step - loss: 0.4086 - accuracy: 0.8287\n",
      "Epoch 125/200\n",
      "17/17 [==============================] - 0s 1ms/step - loss: 0.3963 - accuracy: 0.8156\n",
      "Epoch 126/200\n",
      "17/17 [==============================] - 0s 1ms/step - loss: 0.4024 - accuracy: 0.8156\n",
      "Epoch 127/200\n",
      "17/17 [==============================] - 0s 2ms/step - loss: 0.4181 - accuracy: 0.8026\n",
      "Epoch 128/200\n",
      "17/17 [==============================] - 0s 1ms/step - loss: 0.3915 - accuracy: 0.8361\n",
      "Epoch 129/200\n",
      "17/17 [==============================] - 0s 1ms/step - loss: 0.4003 - accuracy: 0.8045\n",
      "Epoch 130/200\n",
      "17/17 [==============================] - 0s 1ms/step - loss: 0.4127 - accuracy: 0.7914\n",
      "Epoch 131/200\n",
      "17/17 [==============================] - 0s 1ms/step - loss: 0.4078 - accuracy: 0.8082\n",
      "Epoch 132/200\n",
      "17/17 [==============================] - 0s 1ms/step - loss: 0.3952 - accuracy: 0.8268\n",
      "Epoch 133/200\n",
      "17/17 [==============================] - 0s 1ms/step - loss: 0.4208 - accuracy: 0.8007\n",
      "Epoch 134/200\n",
      "17/17 [==============================] - 0s 2ms/step - loss: 0.3882 - accuracy: 0.8212\n",
      "Epoch 135/200\n",
      "17/17 [==============================] - 0s 1ms/step - loss: 0.4180 - accuracy: 0.7989\n",
      "Epoch 136/200\n",
      "17/17 [==============================] - 0s 2ms/step - loss: 0.4107 - accuracy: 0.8119\n",
      "Epoch 137/200\n",
      "17/17 [==============================] - 0s 2ms/step - loss: 0.4110 - accuracy: 0.8063\n",
      "Epoch 138/200\n",
      "17/17 [==============================] - 0s 1ms/step - loss: 0.4018 - accuracy: 0.8119\n",
      "Epoch 139/200\n",
      "17/17 [==============================] - 0s 2ms/step - loss: 0.4006 - accuracy: 0.8194\n",
      "Epoch 140/200\n",
      "17/17 [==============================] - 0s 1ms/step - loss: 0.4541 - accuracy: 0.7840\n",
      "Epoch 141/200\n",
      "17/17 [==============================] - 0s 1ms/step - loss: 0.4659 - accuracy: 0.7896\n",
      "Epoch 142/200\n",
      "17/17 [==============================] - 0s 2ms/step - loss: 0.3979 - accuracy: 0.8250\n",
      "Epoch 143/200\n",
      "17/17 [==============================] - 0s 1ms/step - loss: 0.3887 - accuracy: 0.8119\n",
      "Epoch 144/200\n",
      "17/17 [==============================] - 0s 2ms/step - loss: 0.4100 - accuracy: 0.8026\n",
      "Epoch 145/200\n",
      "17/17 [==============================] - 0s 2ms/step - loss: 0.3881 - accuracy: 0.8231\n",
      "Epoch 146/200\n",
      "17/17 [==============================] - 0s 2ms/step - loss: 0.4122 - accuracy: 0.7989\n",
      "Epoch 147/200\n",
      "17/17 [==============================] - 0s 1ms/step - loss: 0.4109 - accuracy: 0.8156\n",
      "Epoch 148/200\n",
      "17/17 [==============================] - 0s 2ms/step - loss: 0.3876 - accuracy: 0.8361\n",
      "Epoch 149/200\n",
      "17/17 [==============================] - 0s 2ms/step - loss: 0.3798 - accuracy: 0.8454\n",
      "Epoch 150/200\n",
      "17/17 [==============================] - 0s 1ms/step - loss: 0.4089 - accuracy: 0.8250\n",
      "Epoch 151/200\n",
      "17/17 [==============================] - 0s 1ms/step - loss: 0.4020 - accuracy: 0.8063\n",
      "Epoch 152/200\n",
      "17/17 [==============================] - 0s 2ms/step - loss: 0.4066 - accuracy: 0.7970\n",
      "Epoch 153/200\n",
      "17/17 [==============================] - 0s 1ms/step - loss: 0.4255 - accuracy: 0.8026\n",
      "Epoch 154/200\n",
      "17/17 [==============================] - 0s 2ms/step - loss: 0.3957 - accuracy: 0.8212\n",
      "Epoch 155/200\n",
      "17/17 [==============================] - 0s 1ms/step - loss: 0.3985 - accuracy: 0.8045\n",
      "Epoch 156/200\n",
      "17/17 [==============================] - 0s 1ms/step - loss: 0.4217 - accuracy: 0.8119\n",
      "Epoch 157/200\n",
      "17/17 [==============================] - 0s 1ms/step - loss: 0.4087 - accuracy: 0.8101\n",
      "Epoch 158/200\n",
      "17/17 [==============================] - 0s 1ms/step - loss: 0.4173 - accuracy: 0.8007\n",
      "Epoch 159/200\n",
      "17/17 [==============================] - 0s 1ms/step - loss: 0.4324 - accuracy: 0.7989\n",
      "Epoch 160/200\n",
      "17/17 [==============================] - 0s 2ms/step - loss: 0.4272 - accuracy: 0.7896\n",
      "Epoch 161/200\n",
      "17/17 [==============================] - 0s 1ms/step - loss: 0.4233 - accuracy: 0.8138\n",
      "Epoch 162/200\n",
      "17/17 [==============================] - 0s 2ms/step - loss: 0.4218 - accuracy: 0.7970\n",
      "Epoch 163/200\n",
      "17/17 [==============================] - 0s 2ms/step - loss: 0.3910 - accuracy: 0.8231\n",
      "Epoch 164/200\n"
     ]
    },
    {
     "name": "stdout",
     "output_type": "stream",
     "text": [
      "17/17 [==============================] - 0s 1ms/step - loss: 0.3768 - accuracy: 0.8305\n",
      "Epoch 165/200\n",
      "17/17 [==============================] - 0s 2ms/step - loss: 0.3866 - accuracy: 0.8250\n",
      "Epoch 166/200\n",
      "17/17 [==============================] - 0s 1ms/step - loss: 0.3970 - accuracy: 0.8082\n",
      "Epoch 167/200\n",
      "17/17 [==============================] - 0s 1ms/step - loss: 0.3929 - accuracy: 0.8175\n",
      "Epoch 168/200\n",
      "17/17 [==============================] - 0s 2ms/step - loss: 0.4090 - accuracy: 0.8101\n",
      "Epoch 169/200\n",
      "17/17 [==============================] - 0s 1ms/step - loss: 0.3966 - accuracy: 0.8138\n",
      "Epoch 170/200\n",
      "17/17 [==============================] - 0s 2ms/step - loss: 0.3806 - accuracy: 0.8212\n",
      "Epoch 171/200\n",
      "17/17 [==============================] - 0s 1ms/step - loss: 0.3804 - accuracy: 0.8305\n",
      "Epoch 172/200\n",
      "17/17 [==============================] - 0s 1ms/step - loss: 0.3946 - accuracy: 0.8156\n",
      "Epoch 173/200\n",
      "17/17 [==============================] - 0s 1ms/step - loss: 0.4093 - accuracy: 0.8138\n",
      "Epoch 174/200\n",
      "17/17 [==============================] - 0s 1ms/step - loss: 0.4030 - accuracy: 0.8250\n",
      "Epoch 175/200\n",
      "17/17 [==============================] - 0s 1ms/step - loss: 0.3992 - accuracy: 0.8231\n",
      "Epoch 176/200\n",
      "17/17 [==============================] - 0s 836us/step - loss: 0.3984 - accuracy: 0.8045\n",
      "Epoch 177/200\n",
      "17/17 [==============================] - 0s 1ms/step - loss: 0.3980 - accuracy: 0.8175\n",
      "Epoch 178/200\n",
      "17/17 [==============================] - 0s 1ms/step - loss: 0.4019 - accuracy: 0.8119\n",
      "Epoch 179/200\n",
      "17/17 [==============================] - 0s 1ms/step - loss: 0.4304 - accuracy: 0.7914\n",
      "Epoch 180/200\n",
      "17/17 [==============================] - 0s 2ms/step - loss: 0.3955 - accuracy: 0.8156\n",
      "Epoch 181/200\n",
      "17/17 [==============================] - 0s 917us/step - loss: 0.3711 - accuracy: 0.8417\n",
      "Epoch 182/200\n",
      "17/17 [==============================] - 0s 2ms/step - loss: 0.3747 - accuracy: 0.8156\n",
      "Epoch 183/200\n",
      "17/17 [==============================] - 0s 1ms/step - loss: 0.3790 - accuracy: 0.8324\n",
      "Epoch 184/200\n",
      "17/17 [==============================] - 0s 1ms/step - loss: 0.3932 - accuracy: 0.8156\n",
      "Epoch 185/200\n",
      "17/17 [==============================] - 0s 1ms/step - loss: 0.3816 - accuracy: 0.8324\n",
      "Epoch 186/200\n",
      "17/17 [==============================] - 0s 2ms/step - loss: 0.3794 - accuracy: 0.8343\n",
      "Epoch 187/200\n",
      "17/17 [==============================] - 0s 1ms/step - loss: 0.4054 - accuracy: 0.8268\n",
      "Epoch 188/200\n",
      "17/17 [==============================] - 0s 2ms/step - loss: 0.4199 - accuracy: 0.8045\n",
      "Epoch 189/200\n",
      "17/17 [==============================] - 0s 1ms/step - loss: 0.4050 - accuracy: 0.8082\n",
      "Epoch 190/200\n",
      "17/17 [==============================] - 0s 1ms/step - loss: 0.3896 - accuracy: 0.8156\n",
      "Epoch 191/200\n",
      "17/17 [==============================] - 0s 1ms/step - loss: 0.4000 - accuracy: 0.8045\n",
      "Epoch 192/200\n",
      "17/17 [==============================] - 0s 1ms/step - loss: 0.4259 - accuracy: 0.7877\n",
      "Epoch 193/200\n",
      "17/17 [==============================] - 0s 1ms/step - loss: 0.3860 - accuracy: 0.8101\n",
      "Epoch 194/200\n",
      "17/17 [==============================] - 0s 1ms/step - loss: 0.3862 - accuracy: 0.8101\n",
      "Epoch 195/200\n",
      "17/17 [==============================] - 0s 1ms/step - loss: 0.3786 - accuracy: 0.8343\n",
      "Epoch 196/200\n",
      "17/17 [==============================] - 0s 2ms/step - loss: 0.4123 - accuracy: 0.8119\n",
      "Epoch 197/200\n",
      "17/17 [==============================] - 0s 1ms/step - loss: 0.3761 - accuracy: 0.8175\n",
      "Epoch 198/200\n",
      "17/17 [==============================] - 0s 1ms/step - loss: 0.3757 - accuracy: 0.8175\n",
      "Epoch 199/200\n",
      "17/17 [==============================] - 0s 1ms/step - loss: 0.3990 - accuracy: 0.8045\n",
      "Epoch 200/200\n",
      "17/17 [==============================] - 0s 1ms/step - loss: 0.3796 - accuracy: 0.8119\n"
     ]
    },
    {
     "data": {
      "text/plain": [
       "<keras.callbacks.History at 0x1f4fc14dfd0>"
      ]
     },
     "execution_count": 141,
     "metadata": {},
     "output_type": "execute_result"
    }
   ],
   "source": [
    "# Training for 200 epochs\n",
    "model.fit(x_train,y_train,epochs=200)"
   ]
  },
  {
   "cell_type": "code",
   "execution_count": 142,
   "id": "beee422d",
   "metadata": {},
   "outputs": [],
   "source": [
    "from sklearn.metrics import confusion_matrix"
   ]
  },
  {
   "cell_type": "code",
   "execution_count": 143,
   "id": "67d34900",
   "metadata": {},
   "outputs": [
    {
     "name": "stdout",
     "output_type": "stream",
     "text": [
      "8/8 [==============================] - 0s 1ms/step\n"
     ]
    }
   ],
   "source": [
    "y_test_pred = (model.predict(x_test)>0.5).astype(\"int32\")"
   ]
  },
  {
   "cell_type": "code",
   "execution_count": 144,
   "id": "844578c4",
   "metadata": {},
   "outputs": [],
   "source": [
    "cm = confusion_matrix(y_test,y_test_pred)"
   ]
  },
  {
   "cell_type": "code",
   "execution_count": 145,
   "id": "25db7db1",
   "metadata": {},
   "outputs": [
    {
     "name": "stdout",
     "output_type": "stream",
     "text": [
      "[[113  44]\n",
      " [ 32  42]]\n"
     ]
    }
   ],
   "source": [
    "print(cm)"
   ]
  },
  {
   "cell_type": "code",
   "execution_count": 146,
   "id": "4b417787",
   "metadata": {},
   "outputs": [
    {
     "data": {
      "image/png": "[encoded data removed]",
      "text/plain": [
       "<Figure size 640x480 with 1 Axes>"
      ]
     },
     "metadata": {},
     "output_type": "display_data"
    }
   ],
   "source": [
    "ax = sns.heatmap(cm, annot=True, xticklabels=[\"No Diabetics\",\"Diabetics\"], yticklabels=[\"No Diabetics\",\"Diabetics\"],\n",
    "                cbar=False,cmap='Blues')\n",
    "ax.set_xlabel('Prediction')\n",
    "ax.set_ylabel('Actual')\n",
    "plt.show()"
   ]
  },
  {
   "cell_type": "code",
   "execution_count": null,
   "id": "1323133a",
   "metadata": {},
   "outputs": [],
   "source": []
  },
  {
   "cell_type": "code",
   "execution_count": null,
   "id": "41db1af2",
   "metadata": {},
   "outputs": [],
   "source": []
  }
 ],
 "metadata": {
  "kernelspec": {
   "display_name": "Python 3 (ipykernel)",
   "language": "python",
   "name": "python3"
  },
  "language_info": {
   "codemirror_mode": {
    "name": "ipython",
    "version": 3
   },
   "file_extension": ".py",
   "mimetype": "text/x-python",
   "name": "python",
   "nbconvert_exporter": "python",
   "pygments_lexer": "ipython3",
   "version": "3.11.4"
  }
 },
 "nbformat": 4,
 "nbformat_minor": 5
}
